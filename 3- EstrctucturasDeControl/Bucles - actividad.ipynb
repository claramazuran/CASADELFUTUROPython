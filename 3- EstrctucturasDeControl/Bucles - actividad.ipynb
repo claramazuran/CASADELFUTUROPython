{
 "cells": [
  {
   "cell_type": "markdown",
   "metadata": {},
   "source": [
    "## Bucles - Actividad\n",
    "*Los ejercicios propuestos a continuación presentan autocorrección. En cada uno habrá dos bloques, uno para resolver el ejercicio y otro para testear tu solución.*\n",
    "Ejemplo:"
   ]
  },
  {
   "cell_type": "code",
   "execution_count": 1,
   "metadata": {},
   "outputs": [],
   "source": [
    "def ejemplo():\n",
    "    return \"ejemplo\""
   ]
  },
  {
   "cell_type": "code",
   "execution_count": 2,
   "metadata": {},
   "outputs": [
    {
     "name": "stdout",
     "output_type": "stream",
     "text": [
      "\u001b[92mMuy bien!\n"
     ]
    }
   ],
   "source": [
    "# TEST EJEMPLO\n",
    "\n",
    "try:\n",
    "    assert ejemplo() == \"ejemplo\", \"ejemplo() debería retornar 'ejemplo'\"\n",
    "    print('\\033[92m' + 'Muy bien!')\n",
    "except AssertionError as e:\n",
    "    print('\\033[91m' + str(e))"
   ]
  },
  {
   "cell_type": "markdown",
   "metadata": {},
   "source": [
    "1. Escribir un programa que calcule la suma de los primeros n números naturales y retorne el resultado"
   ]
  },
  {
   "cell_type": "code",
   "execution_count": 24,
   "metadata": {},
   "outputs": [],
   "source": [
    "def ejercicio_1(n):\n",
    "    suma = 0\n",
    "    \n",
    "    for i in range(1,n+1):\n",
    "        suma = suma + i\n",
    "        \n",
    "    return suma"
   ]
  },
  {
   "cell_type": "code",
   "execution_count": 25,
   "metadata": {},
   "outputs": [
    {
     "name": "stdout",
     "output_type": "stream",
     "text": [
      "\u001b[92m✓ Ejercicio correcto!\n"
     ]
    }
   ],
   "source": [
    "# TEST EJERCICIO 1\n",
    "\n",
    "try:\n",
    "    assert ejercicio_1(10) == 55\n",
    "    assert ejercicio_1(5) == 15\n",
    "    print('\\033[92m' + '✓ Ejercicio correcto!')\n",
    "except AssertionError as e:\n",
    "    print('\\033[91m' + \"x Ejercicio incorrecto\")"
   ]
  },
  {
   "cell_type": "markdown",
   "metadata": {},
   "source": [
    "2. Escribe un programa que cuente cuántos números pares hay en un rango del 1 al n, **incluyendo n**.\n",
    "Debe retornar el número de números pares encontrados."
   ]
  },
  {
   "cell_type": "code",
   "execution_count": 67,
   "metadata": {},
   "outputs": [],
   "source": [
    "def ejercicio_2(n):\n",
    "    nrosPares = 0\n",
    "\n",
    "    for j in range(1,n+1):\n",
    "        \n",
    "        if j%2 == 0:\n",
    "            nrosPares += 1\n",
    "\n",
    "    return nrosPares"
   ]
  },
  {
   "cell_type": "code",
   "execution_count": 68,
   "metadata": {},
   "outputs": [
    {
     "name": "stdout",
     "output_type": "stream",
     "text": [
      "\u001b[92m✓ Ejercicio correcto!\n"
     ]
    }
   ],
   "source": [
    "# TEST EJERCICIO 2\n",
    "try:\n",
    "    assert ejercicio_2(10) == 5  # 2, 4, 6, 8, 10 son pares\n",
    "    assert ejercicio_2(15) == 7  # 2, 4, 6, 8, 10, 12, 14 son pares\n",
    "    print('\\033[92m' + '✓ Ejercicio correcto!')\n",
    "except AssertionError as e:\n",
    "    print('\\033[91m' + \"x Ejercicio incorrecto\")"
   ]
  },
  {
   "cell_type": "markdown",
   "metadata": {},
   "source": [
    "3. Escribe un programa que reciba una cadena de texto y cuente cuántas vocales contiene.\n",
    "Debe retornar el número total de vocales. Las vocales pueden ser mayúsculas o minúsculas."
   ]
  },
  {
   "cell_type": "code",
   "execution_count": 69,
   "metadata": {},
   "outputs": [],
   "source": [
    "def ejercicio_3(texto):\n",
    "    vocales = ['a','e','i','o','u','A','E','I','O','U']\n",
    "    cantVocales = 0\n",
    "\n",
    "    for i in range(len(texto)):\n",
    "        for j in range(len(vocales)):\n",
    "            if texto[i] == vocales[j]:\n",
    "                cantVocales += 1\n",
    "\n",
    "    return cantVocales"
   ]
  },
  {
   "cell_type": "code",
   "execution_count": 70,
   "metadata": {},
   "outputs": [
    {
     "name": "stdout",
     "output_type": "stream",
     "text": [
      "\u001b[92m✓ Ejercicio correcto!\n"
     ]
    }
   ],
   "source": [
    "# TEST EJERCICIO 3\n",
    "try:\n",
    "    assert ejercicio_3(\"Hola, mundo\") == 4\n",
    "    assert ejercicio_3(\"AEIOUaeiou\") == 10\n",
    "    print('\\033[92m' + '✓ Ejercicio correcto!')\n",
    "except AssertionError as e:\n",
    "    print('\\033[91m' + \"x Ejercicio incorrecto\")"
   ]
  },
  {
   "cell_type": "markdown",
   "metadata": {},
   "source": [
    "4. Escribe un programa que encuentre el número más grande en una lista de números.\n",
    "Debe retornar el `'El numero mas grande es {numero}'`"
   ]
  },
  {
   "cell_type": "code",
   "execution_count": 73,
   "metadata": {},
   "outputs": [],
   "source": [
    "def ejercicio_4(lista_numeros):\n",
    "    nroMasGrande = lista_numeros[0]\n",
    "\n",
    "    for i in range(1, len(lista_numeros)):\n",
    "        if lista_numeros[i] > nroMasGrande:\n",
    "            nroMasGrande = lista_numeros[i]\n",
    "    \n",
    "    return f\"El numero mas grande es {nroMasGrande}\""
   ]
  },
  {
   "cell_type": "code",
   "execution_count": 74,
   "metadata": {},
   "outputs": [
    {
     "name": "stdout",
     "output_type": "stream",
     "text": [
      "\u001b[92m✓ Ejercicio correcto!\n"
     ]
    }
   ],
   "source": [
    "# TEST EJERCICIO 4\n",
    "\n",
    "try:\n",
    "    assert ejercicio_4([3, 8, 1, 7, 12]) == 'El numero mas grande es 12'\n",
    "    assert ejercicio_4([17, 22, 4, 9, 5, 25, 10]) == 'El numero mas grande es 25'\n",
    "    print('\\033[92m' + '✓ Ejercicio correcto!')\n",
    "except AssertionError as e:\n",
    "    print('\\033[91m' + \"x Ejercicio incorrecto\")"
   ]
  },
  {
   "cell_type": "markdown",
   "metadata": {},
   "source": [
    "5. Encontrar los números primos en un rango del 1 al n, **incluyendo n**.\n",
    "Debe retornar una lista con los números primos encontrados."
   ]
  },
  {
   "cell_type": "code",
   "execution_count": 79,
   "metadata": {},
   "outputs": [],
   "source": [
    "def ejercicio_5(n):\n",
    "    num_primos = []\n",
    "    for i in range(1, n + 1):\n",
    "        if es_primo(i):\n",
    "            num_primos.append(i)\n",
    "    return num_primos\n",
    "\n",
    "def es_primo(num):\n",
    "    if num <= 1:\n",
    "        return False\n",
    "    for i in range(2, int(num ** 0.5) + 1):\n",
    "        if num % i == 0:\n",
    "            \n",
    "            return False\n",
    "    return True       "
   ]
  },
  {
   "cell_type": "code",
   "execution_count": 80,
   "metadata": {},
   "outputs": [
    {
     "name": "stdout",
     "output_type": "stream",
     "text": [
      "\u001b[92m✓ Ejercicio correcto!\n"
     ]
    }
   ],
   "source": [
    "# TEST EJERCICIO 5\n",
    "\n",
    "try:\n",
    "    assert ejercicio_5(10) == [2, 3, 5, 7]\n",
    "    assert ejercicio_5(20) == [2, 3, 5, 7, 11, 13, 17, 19]\n",
    "    print('\\033[92m' + '✓ Ejercicio correcto!')\n",
    "except AssertionError as e:\n",
    "    print('\\033[91m' + \"x Ejercicio incorrecto\")"
   ]
  },
  {
   "cell_type": "markdown",
   "metadata": {},
   "source": [
    "6. Un __palíndromo__ es una palabra, número o frase que se lee igual hacia adelante que hacia atrás. Crear una funcion que reciba una cadena de texto y devuelva si dicha cadena es un palíndromo o no. *Devolver True si es un palíndromo y False si no lo es*"
   ]
  },
  {
   "cell_type": "code",
   "execution_count": 93,
   "metadata": {},
   "outputs": [],
   "source": [
    "def ejercicio_6(palabra):\n",
    "    palabraOriginal = palabra\n",
    "    palabraAlreves = \"\"\n",
    "    lista1 = []\n",
    "\n",
    "    #este for sirve para dar vuelta la palabra y guardarla en una lista\n",
    "    for i in range(len(palabra)):\n",
    "        lista1.append(palabra[len(palabra)-1-i])\n",
    "\n",
    "    #este for sirve para pasar la palabra que esta en la lista a la variable palabraAlreves\n",
    "    for j in range(len(lista1)):\n",
    "        palabraAlreves += lista1[j]\n",
    "\n",
    "    if palabraAlreves == palabraOriginal:\n",
    "        return True\n",
    "    else:\n",
    "        return False\n",
    "    \n"
   ]
  },
  {
   "cell_type": "code",
   "execution_count": 94,
   "metadata": {},
   "outputs": [
    {
     "name": "stdout",
     "output_type": "stream",
     "text": [
      "\u001b[92m✓ Ejercicio correcto!\n"
     ]
    }
   ],
   "source": [
    "# TEST EJERCICIO 6\n",
    "\n",
    "try:\n",
    "    assert ejercicio_6(\"sometemos\") == True\n",
    "    assert ejercicio_6(\"arenera\") == True\n",
    "    assert ejercicio_6(\"holamundo\") == False\n",
    "    assert ejercicio_6(\"python\") == False\n",
    "    assert ejercicio_6(\"reconocer\") == True\n",
    "    print('\\033[92m' + '✓ Ejercicio correcto!')\n",
    "except AssertionError as e:\n",
    "    print('\\033[91m' + \"x Ejercicio incorrecto\")\n",
    "    "
   ]
  },
  {
   "cell_type": "markdown",
   "metadata": {},
   "source": [
    "7. Dada una lista de nombres, crear una funcion que devuelva una lista con los nombres que empiezan con la letra recibida como parámetro."
   ]
  },
  {
   "cell_type": "code",
   "execution_count": 95,
   "metadata": {},
   "outputs": [],
   "source": [
    "def ejercicio_7(letra, lista_nombres):\n",
    "    listaDeVerdad = []\n",
    "\n",
    "    for i in range(len(lista_nombres)):\n",
    "        if letra == lista_nombres[i][0]:\n",
    "            listaDeVerdad.append(lista_nombres[i])\n",
    "    \n",
    "    return listaDeVerdad"
   ]
  },
  {
   "cell_type": "code",
   "execution_count": 96,
   "metadata": {},
   "outputs": [
    {
     "name": "stdout",
     "output_type": "stream",
     "text": [
      "\u001b[92m✓ Ejercicio correcto!\n"
     ]
    }
   ],
   "source": [
    "# TEST EJERCICIO 7\n",
    "\n",
    "try:\n",
    "    assert ejercicio_7(\"A\", [\"Ana\", \"Juan\", \"Pedro\", \"Amanda\", \"Pablo\", \"Alfredo\"]) == [\"Ana\", \"Amanda\", \"Alfredo\"]\n",
    "    assert ejercicio_7(\"J\", [\"Ana\", \"Juan\", \"Pedro\", \"Amanda\", \"Pablo\", \"Alfredo\"]) == [\"Juan\"]\n",
    "    assert ejercicio_7(\"P\", [\"Ana\", \"Juan\", \"Pedro\", \"Amanda\", \"Pablo\", \"Alfredo\"]) == [\"Pedro\", \"Pablo\"]\n",
    "    assert ejercicio_7(\"Z\", [\"Ana\", \"Juan\", \"Pedro\", \"Amanda\", \"Pablo\", \"Alfredo\"]) == []\n",
    "    print('\\033[92m' + '✓ Ejercicio correcto!')\n",
    "except AssertionError as e:\n",
    "    print('\\033[91m' + \"x Ejercicio incorrecto\")"
   ]
  },
  {
   "cell_type": "markdown",
   "metadata": {},
   "source": [
    "8. Crear una funcion que recibe un laberinto en forma de matriz y debe devolver la posicion de la salida del laberinto.\n",
    "\n",
    "*El laberinto es una matriz donde \"#\" representa una pared, un espacio \" \" representa un pasillo y \"S\" representa la salida*\n",
    "\n",
    "*Ejemplo:*\n",
    "\n",
    "```python\n",
    "laberinto = [[\"#\",\"#\",\"#\",\"#\",\"#\",\"#\"],\n",
    "             [\"#\",\" \",\" \",\" \",\"#\",\"#\"],\n",
    "             [\"#\",\" \",\"#\",\" \",\" \",\"#\"],\n",
    "             [\"#\",\" \",\"#\",\"#\",\" \",\"#\"],\n",
    "             [\"#\",\" \",\" \",\"#\",\" \",\"#\"],\n",
    "             [\"#\",\"#\",\"#\",\"#\",\"S\",\"#\"]]\n",
    "```\n",
    "La funcion debe recorrer elemento por elemento hasta encontrar la S y devolver la posicion de la S en forma de tupla (fila, columna).\n",
    "*Recomendación: utilizar un bucle for anidado (un for dentro de otro for) donde el primero recorra las filas y el segundo las columnas.*"
   ]
  },
  {
   "cell_type": "code",
   "execution_count": 99,
   "metadata": {},
   "outputs": [],
   "source": [
    "def ejercicio_8(laberinto):\n",
    "    for i in range(len(laberinto)):\n",
    "        for j in range(len(laberinto[i])):\n",
    "            if laberinto[i][j] == \"S\":\n",
    "                return (i,j)"
   ]
  },
  {
   "cell_type": "code",
   "execution_count": 100,
   "metadata": {},
   "outputs": [
    {
     "name": "stdout",
     "output_type": "stream",
     "text": [
      "\u001b[92m✓ Ejercicio correcto!\n"
     ]
    }
   ],
   "source": [
    "# TEST EJERCICIO 8\n",
    "\n",
    "try:\n",
    "    assert ejercicio_8([\n",
    "        [\"#\", \"#\", \"#\", \"#\", \"#\", \"#\", \"#\", \"#\", \"#\", \"#\", \"#\", \"#\", \"#\", \"#\", \"#\", \"#\"],\n",
    "        [\"#\", \" \", \" \", \" \", \" \", \" \", \" \", \" \", \" \", \" \", \" \", \" \", \" \", \" \", \" \", \"#\"],\n",
    "        [\"#\", \" \", \"#\", \"#\", \"#\", \"#\", \"#\", \"#\", \"#\", \"#\", \" \", \"#\", \"#\", \"#\", \" \", \"#\"],\n",
    "        [\"#\", \" \", \"#\", \" \", \" \", \" \", \" \", \" \", \" \", \"#\", \" \", \"#\", \" \", \" \", \" \", \"#\"],\n",
    "        [\"#\", \" \", \"#\", \" \", \"#\", \"#\", \"#\", \"#\", \" \", \"#\", \" \", \"#\", \" \", \"#\", \"#\", \"#\"],\n",
    "        [\"#\", \" \", \"#\", \" \", \"#\", \" \", \" \", \" \", \" \", \"#\", \" \", \"#\", \" \", \" \", \" \", \"#\"],\n",
    "        [\"#\", \" \", \"#\", \" \", \"#\", \" \", \"#\", \"#\", \"#\", \"#\", \" \", \"#\", \"#\", \"#\", \" \", \"#\"],\n",
    "        [\"#\", \" \", \"#\", \" \", \"#\", \" \", \"#\", \" \", \" \", \" \", \" \", \" \", \" \", \" \", \" \", \"#\"],\n",
    "        [\"#\", \" \", \"#\", \" \", \"#\", \" \", \"#\", \" \", \"#\", \"#\", \"#\", \"#\", \"#\", \"#\", \"#\", \"#\"],\n",
    "        [\"#\", \" \", \"#\", \" \", \"#\", \" \", \"#\", \" \", \"#\", \" \", \" \", \" \", \" \", \" \", \" \", \"#\"],\n",
    "        [\"#\", \" \", \"#\", \" \", \"#\", \" \", \"#\", \" \", \"#\", \" \", \"#\", \"#\", \"#\", \"#\", \" \", \"#\"],\n",
    "        [\"#\", \" \", \"#\", \" \", \"#\", \" \", \"#\", \" \", \"#\", \" \", \" \", \" \", \" \", \"#\", \" \", \"#\"],\n",
    "        [\"#\", \" \", \"#\", \" \", \"#\", \" \", \"#\", \" \", \"#\", \"#\", \"#\", \"#\", \" \", \"#\", \" \", \"#\"],\n",
    "        [\"#\", \" \", \"#\", \" \", \"#\", \" \", \" \", \" \", \" \", \" \", \" \", \"#\", \" \", \"#\", \" \", \"#\"],\n",
    "        [\"#\", \" \", \"#\", \" \", \"#\", \"#\", \"#\", \"#\", \"#\", \"#\", \"#\", \"#\", \" \", \"#\", \" \", \"#\"],\n",
    "        [\"#\", \" \", \" \", \" \", \" \", \" \", \" \", \" \", \" \", \" \", \" \", \" \", \" \", \"#\", \" \", \"#\"],\n",
    "        [\"#\", \"#\", \"#\", \"#\", \"#\", \"#\", \"#\", \"#\", \"#\", \"#\", \"#\", \"#\", \"#\", \"#\", \"S\", \"#\"]\n",
    "    ]) == (16, 14)\n",
    "    print('\\033[92m' + '✓ Ejercicio correcto!')\n",
    "except AssertionError as e:\n",
    "    print('\\033[91m' + \"x Ejercicio incorrecto\")\n",
    "    "
   ]
  }
 ],
 "metadata": {
  "kernelspec": {
   "display_name": "Python 3",
   "language": "python",
   "name": "python3"
  },
  "language_info": {
   "codemirror_mode": {
    "name": "ipython",
    "version": 3
   },
   "file_extension": ".py",
   "mimetype": "text/x-python",
   "name": "python",
   "nbconvert_exporter": "python",
   "pygments_lexer": "ipython3",
   "version": "3.12.2"
  }
 },
 "nbformat": 4,
 "nbformat_minor": 2
}
