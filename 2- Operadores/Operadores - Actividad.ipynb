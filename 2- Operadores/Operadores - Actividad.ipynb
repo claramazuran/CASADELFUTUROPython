{
 "cells": [
  {
   "cell_type": "markdown",
   "metadata": {},
   "source": [
    "## Operadores - Actividad"
   ]
  },
  {
   "cell_type": "markdown",
   "metadata": {},
   "source": [
    "1) Pedir al usuario dos números y mostrar por pantalla la suma de ellos."
   ]
  },
  {
   "cell_type": "code",
   "execution_count": 2,
   "metadata": {},
   "outputs": [
    {
     "name": "stdout",
     "output_type": "stream",
     "text": [
      "3\n"
     ]
    }
   ],
   "source": [
    "a = int (input (\"Ingrese el primer número que quiera sumar\"))\n",
    "b = int (input (\"Ingrese el segundo número que quiera sumar\"))\n",
    "\n",
    "print(a + b)"
   ]
  },
  {
   "cell_type": "markdown",
   "metadata": {},
   "source": [
    "2) Calcular el perímetro y área de un rectángulo dada su base y su altura (el usuario debe introducir por teclado los dos valores)."
   ]
  },
  {
   "cell_type": "code",
   "execution_count": 4,
   "metadata": {},
   "outputs": [
    {
     "name": "stdout",
     "output_type": "stream",
     "text": [
      "El perimetro de su rectángulo es 140 y el area es 1000\n"
     ]
    }
   ],
   "source": [
    "base = int (input (\"Ingrese la base del rectángulo\"))\n",
    "altura = int (input (\"Ingrese la altura del rectángulo\"))\n",
    "\n",
    "perimetro = 2 * base + 2* altura\n",
    "area = base * altura\n",
    "\n",
    "print (f\"El perimetro de su rectángulo es {perimetro} y el area es {area}\")"
   ]
  },
  {
   "cell_type": "markdown",
   "metadata": {},
   "source": [
    "3) Calcular el resultado de elevar un número entero a otro número entero (por ejemplo, 5 elevado a 3 = 5^3 = 5*5*5)."
   ]
  },
  {
   "cell_type": "code",
   "execution_count": 10,
   "metadata": {},
   "outputs": [
    {
     "name": "stdout",
     "output_type": "stream",
     "text": [
      "El resultado es: 25\n"
     ]
    }
   ],
   "source": [
    "a = int (input (\"Ingrese el número al que quiere sacarle la potencia\"))\n",
    "potencia = int (input (\"Ingrese la potencia\"))\n",
    "resultado = 1\n",
    "\n",
    "while potencia != 0:\n",
    "   resultado *= a \n",
    "   potencia -= 1\n",
    "\n",
    "print(f\"El resultado es: {resultado}\")"
   ]
  },
  {
   "cell_type": "markdown",
   "metadata": {},
   "source": [
    "4) Escribe un programa que convierta grados Celsius a grados Fahrenheit utilizando la fórmula: **F = (C * 9/5) + 32**"
   ]
  },
  {
   "cell_type": "code",
   "execution_count": 11,
   "metadata": {},
   "outputs": [
    {
     "name": "stdout",
     "output_type": "stream",
     "text": [
      "La temperatura 20 en Celsius es 68.0 en Fahrenheit\n"
     ]
    }
   ],
   "source": [
    "c = int (input (\"Ingrese los grados en Celsius\"))\n",
    "\n",
    "f = ( c * 9/5 ) + 32\n",
    "\n",
    "print(f\"La temperatura {c} en Celsius es {f} en Fahrenheit\")\n"
   ]
  },
  {
   "cell_type": "markdown",
   "metadata": {},
   "source": [
    "5) Pedir al usuario su edad y mostrar por pantalla si es mayor de edad o no. (Mayor de edad >= 18)"
   ]
  },
  {
   "cell_type": "code",
   "execution_count": 2,
   "metadata": {},
   "outputs": [
    {
     "name": "stdout",
     "output_type": "stream",
     "text": [
      "Usted es mayor de edad\n"
     ]
    }
   ],
   "source": [
    "edad = int (input (\"Ingrese su edad\"))\n",
    "\n",
    "if edad >= 18:\n",
    "    print(\"Usted es mayor de edad\")\n",
    "else :\n",
    "    print(\"Usted no es mayor de edad\")"
   ]
  },
  {
   "cell_type": "markdown",
   "metadata": {},
   "source": [
    "6) Comprobar si el numero ingresado por el usuario es par o impar."
   ]
  },
  {
   "cell_type": "code",
   "execution_count": 1,
   "metadata": {},
   "outputs": [
    {
     "name": "stdout",
     "output_type": "stream",
     "text": [
      "El número 2 par\n"
     ]
    }
   ],
   "source": [
    "a = int (input (\"Ingrese un número\"))\n",
    "\n",
    "if a % 2 == 0:\n",
    "    print(f\"El número {a} par\")\n",
    "else :\n",
    "    print(f\"El número {a} es impar\")"
   ]
  },
  {
   "cell_type": "markdown",
   "metadata": {},
   "source": [
    "7) Pedir al usuario que ingrese su dirección email y luego mostrar un mensaje indicando si la dirección es válida o no. Una dirección se considerará válida si contiene el símbolo \"@\"."
   ]
  },
  {
   "cell_type": "code",
   "execution_count": 5,
   "metadata": {},
   "outputs": [
    {
     "name": "stdout",
     "output_type": "stream",
     "text": [
      "¿La dirección de correo es válida? True\n"
     ]
    }
   ],
   "source": [
    "email = input (\"Ingrese su email\")\n",
    "\n",
    "print (\"¿La dirección de correo es válida?\",\"@\" in email)"
   ]
  },
  {
   "cell_type": "markdown",
   "metadata": {},
   "source": [
    "8) Dado un número de dos cifras, diseñe un algoritmo que permita obtener el número invertido. Ejemplo, si se introduce 23 que muestre 32. (Recordar que las cadenas pueden tratarse como listas de caracteres)."
   ]
  },
  {
   "cell_type": "code",
   "execution_count": 22,
   "metadata": {},
   "outputs": [
    {
     "name": "stdout",
     "output_type": "stream",
     "text": [
      "El número al revés es ['6', '5', '9', '7', '8', '4']\n"
     ]
    }
   ],
   "source": [
    "nro = input (\"Ingrese un número\")\n",
    "contador = len(nro) - 1\n",
    "num = []\n",
    "\n",
    "#print(contador)\n",
    "for i in range(len(nro)):\n",
    "   num.append(nro[contador])\n",
    "   contador -= 1\n",
    "    \n",
    "print (f\"El número al revés es {num}\")\n",
    "\n",
    "    "
   ]
  },
  {
   "cell_type": "markdown",
   "metadata": {},
   "source": [
    "9) Crea un programa que pida al usuario dos números y muestre True si ambos son mayores que 10."
   ]
  },
  {
   "cell_type": "code",
   "execution_count": 24,
   "metadata": {},
   "outputs": [
    {
     "name": "stdout",
     "output_type": "stream",
     "text": [
      "True\n"
     ]
    }
   ],
   "source": [
    "nro1 = int ( input (\"Ingrese un número\"))\n",
    "nro2 = int ( input (\"Ingrese el otro número\"))\n",
    "\n",
    "if nro1 > 10 and nro2 > 10:\n",
    "    print(True)\n",
    "else:\n",
    "    print(False)"
   ]
  },
  {
   "cell_type": "markdown",
   "metadata": {},
   "source": [
    "10) Escribe un programa que verifique si un número ingresado por el usuario es divisible por 3 y por 5."
   ]
  },
  {
   "cell_type": "code",
   "execution_count": 26,
   "metadata": {},
   "outputs": [
    {
     "name": "stdout",
     "output_type": "stream",
     "text": [
      "El número 120 es divisible por 3 y 5\n"
     ]
    }
   ],
   "source": [
    "nro1 = int ( input (\"Ingrese un número\"))\n",
    "\n",
    "if nro1 % 3 == 0 and nro1 % 5 == 0:\n",
    "    print(f\"El número {nro1} es divisible por 3 y 5\")\n",
    "else:\n",
    "    print(f\"El número {nro1} NO es divisible por 3 y 5\")"
   ]
  },
  {
   "cell_type": "markdown",
   "metadata": {},
   "source": [
    "11) Utilizando la información del punto 5, preguntar al usuario si posee carnet de conducir, luego verificar si puede conducir un automóvil."
   ]
  },
  {
   "cell_type": "code",
   "execution_count": 9,
   "metadata": {},
   "outputs": [
    {
     "name": "stdout",
     "output_type": "stream",
     "text": [
      "Usted no puede conducir un auto\n"
     ]
    }
   ],
   "source": [
    "if edad >= 18:\n",
    "    carnet = input(\"¿Posee carnet de conducir? Ingrese si o no\")\n",
    "    if  carnet == \"si\":\n",
    "        print(\"Usted puede conducir un auto\")\n",
    "    else:\n",
    "        print(\"Usted no puede conducir un auto\")\n",
    "    "
   ]
  },
  {
   "cell_type": "markdown",
   "metadata": {},
   "source": [
    "12) Pide al usuario un número y verifica si es positivo y no es mayor que 100."
   ]
  },
  {
   "cell_type": "code",
   "execution_count": 13,
   "metadata": {},
   "outputs": [
    {
     "name": "stdout",
     "output_type": "stream",
     "text": [
      "False\n"
     ]
    }
   ],
   "source": [
    "nro1 = int ( input (\"Ingrese un número\"))\n",
    "\n",
    "if 0 < nro1 < 100: \n",
    "    print(True)\n",
    "else:\n",
    "    print(False)"
   ]
  },
  {
   "cell_type": "markdown",
   "metadata": {},
   "source": [
    "13) Crear un programa que valide si un número ingresado por el usuario es par y mayor que 20."
   ]
  },
  {
   "cell_type": "code",
   "execution_count": 15,
   "metadata": {},
   "outputs": [
    {
     "name": "stdout",
     "output_type": "stream",
     "text": [
      "False\n"
     ]
    }
   ],
   "source": [
    "nro1 = int ( input (\"Ingrese un número\"))\n",
    "\n",
    "if nro1%2 == 0 and  nro1>20: \n",
    "    print(True)\n",
    "else:\n",
    "    print(False)"
   ]
  },
  {
   "cell_type": "markdown",
   "metadata": {},
   "source": [
    "14) Dada la variable **numero = 5**, realizar la operación necesaria para que número sea igual a 8. Luego imprimir en pantalla el nuevo valor de número y realizar una nueva operación para que el valor de número sea igual a 4 y mostrar en pantalla el nuevo valor."
   ]
  },
  {
   "cell_type": "code",
   "execution_count": 16,
   "metadata": {},
   "outputs": [
    {
     "name": "stdout",
     "output_type": "stream",
     "text": [
      "8\n",
      "4\n"
     ]
    }
   ],
   "source": [
    "numero = 5\n",
    "\n",
    "numero += 3\n",
    "print(numero)\n",
    "\n",
    "numero -= 4\n",
    "print(numero)"
   ]
  },
  {
   "cell_type": "markdown",
   "metadata": {},
   "source": [
    "15) Dadas las variables altura = \"10\" y base = 5, calcular el área de un triángulo y mostrar el resultado en pantalla. ¿Por qué el resultado es un error? ¿Cómo lo corregirías?"
   ]
  },
  {
   "cell_type": "code",
   "execution_count": 22,
   "metadata": {},
   "outputs": [
    {
     "name": "stdout",
     "output_type": "stream",
     "text": [
      "El área del triángulo es 50\n"
     ]
    }
   ],
   "source": [
    "altura = 10 #se debe cambiar el 10 como string a un int, porque no se puede hacer una multiplicación entre un string y un int\n",
    "base = 5\n",
    "\n",
    "area = altura * base\n",
    "print(f\"El área del triángulo es {area}\")"
   ]
  },
  {
   "cell_type": "markdown",
   "metadata": {},
   "source": [
    "16) Crea un programa que calcule el promedio de tres calificaciones ingresadas por el usuario, y comprobar si el alumno aprobó o no (aprueba con nota mayor a 6)."
   ]
  },
  {
   "cell_type": "code",
   "execution_count": 2,
   "metadata": {},
   "outputs": [
    {
     "name": "stdout",
     "output_type": "stream",
     "text": [
      "Aprobó. Su nota es de 8.0\n"
     ]
    }
   ],
   "source": [
    "nro1 = int ( input (\"Ingrese la primer calificación\"))\n",
    "nro2 = int ( input (\"Ingrese la segunda calificación\"))\n",
    "nro3 = int ( input (\"Ingrese la tercera calificación\"))\n",
    "\n",
    "nota = (nro1 + nro2 + nro3) / 3\n",
    "\n",
    "if nota > 6:\n",
    "    print(f\"Aprobó. Su nota es de {nota}\")\n",
    "else:\n",
    "    print (f\"No aprobó. Su nota es de {nota}\")"
   ]
  },
  {
   "cell_type": "markdown",
   "metadata": {},
   "source": [
    "17) Pide al usuario su edad y calcula cuántos días, horas y minutos ha vivido aproximadamente (asumiendo 365 días por año)."
   ]
  },
  {
   "cell_type": "code",
   "execution_count": 2,
   "metadata": {},
   "outputs": [
    {
     "name": "stdout",
     "output_type": "stream",
     "text": [
      "Usted lleva viviendo 7300 días con 175200 horas con 10512000 minutos\n"
     ]
    }
   ],
   "source": [
    "edad = int ( input (\"Ingrese su edad\"))\n",
    "\n",
    "dias = edad * 365\n",
    "horas = dias * 24\n",
    "minutos = horas * 60\n",
    "\n",
    "print (f\"Usted lleva viviendo {dias} días con {horas} horas con {minutos} minutos\")"
   ]
  },
  {
   "cell_type": "markdown",
   "metadata": {},
   "source": [
    "18) Crea un programa que verifique si un número ingresado por el usuario es múltiplo de 4 y de 6 al mismo tiempo."
   ]
  },
  {
   "cell_type": "code",
   "execution_count": 3,
   "metadata": {},
   "outputs": [
    {
     "name": "stdout",
     "output_type": "stream",
     "text": [
      "El número 12 es divisible por 4 y 6\n"
     ]
    }
   ],
   "source": [
    "nro1 = int ( input (\"Ingrese un número\"))\n",
    "\n",
    "if nro1 % 4 == 0 and nro1 % 6 == 0:\n",
    "    print(f\"El número {nro1} es divisible por 4 y 6\")\n",
    "else:\n",
    "    print(f\"El número {nro1} NO es divisible por 4 y 6\")"
   ]
  },
  {
   "cell_type": "markdown",
   "metadata": {},
   "source": [
    "19) "
   ]
  }
 ],
 "metadata": {
  "kernelspec": {
   "display_name": "Python 3",
   "language": "python",
   "name": "python3"
  },
  "language_info": {
   "codemirror_mode": {
    "name": "ipython",
    "version": 3
   },
   "file_extension": ".py",
   "mimetype": "text/x-python",
   "name": "python",
   "nbconvert_exporter": "python",
   "pygments_lexer": "ipython3",
   "version": "3.12.0"
  }
 },
 "nbformat": 4,
 "nbformat_minor": 2
}
